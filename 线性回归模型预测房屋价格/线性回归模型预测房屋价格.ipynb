{
 "cells": [
  {
   "cell_type": "code",
   "execution_count": 1,
   "metadata": {
    "scrolled": true
   },
   "outputs": [
    {
     "data": {
      "text/html": [
       "<div>\n",
       "<style scoped>\n",
       "    .dataframe tbody tr th:only-of-type {\n",
       "        vertical-align: middle;\n",
       "    }\n",
       "\n",
       "    .dataframe tbody tr th {\n",
       "        vertical-align: top;\n",
       "    }\n",
       "\n",
       "    .dataframe thead th {\n",
       "        text-align: right;\n",
       "    }\n",
       "</style>\n",
       "<table border=\"1\" class=\"dataframe\">\n",
       "  <thead>\n",
       "    <tr style=\"text-align: right;\">\n",
       "      <th></th>\n",
       "      <th>Unnamed: 0</th>\n",
       "      <th>url</th>\n",
       "      <th>title</th>\n",
       "      <th>age</th>\n",
       "      <th>area</th>\n",
       "      <th>floor_info</th>\n",
       "      <th>direction</th>\n",
       "      <th>layout</th>\n",
       "      <th>price</th>\n",
       "    </tr>\n",
       "  </thead>\n",
       "  <tbody>\n",
       "    <tr>\n",
       "      <th>0</th>\n",
       "      <td>0</td>\n",
       "      <td>http://esf.sh.fang.com/chushou/3_289079207.htm</td>\n",
       "      <td>新出笋盘,业主急售,低于市场价30万,精装南北通,近11/12号线</td>\n",
       "      <td>建筑年代：1998\\r\\n</td>\n",
       "      <td>65</td>\n",
       "      <td>中层(共6层)\\r\\n</td>\n",
       "      <td>南北向\\r\\n</td>\n",
       "      <td>\\r\\n                            2室1厅\\r\\n      ...</td>\n",
       "      <td>3500000</td>\n",
       "    </tr>\n",
       "    <tr>\n",
       "      <th>1</th>\n",
       "      <td>1</td>\n",
       "      <td>http://esf.sh.fang.com/chushou/3_290295785.htm</td>\n",
       "      <td>业主急抛,低于市场价50万,双南双天井,闹中取静,近3/12号线!</td>\n",
       "      <td>建筑年代：1996\\r\\n</td>\n",
       "      <td>90</td>\n",
       "      <td>低层(共6层)\\r\\n</td>\n",
       "      <td>南北向\\r\\n</td>\n",
       "      <td>\\r\\n                            3室2厅\\r\\n      ...</td>\n",
       "      <td>5000000</td>\n",
       "    </tr>\n",
       "    <tr>\n",
       "      <th>2</th>\n",
       "      <td>2</td>\n",
       "      <td>http://esf.sh.fang.com/chushou/3_290971789.htm</td>\n",
       "      <td>新出笋盘 近11号线 东边套 低于市价50万 送20平米花园 急售</td>\n",
       "      <td>建筑年代：1998\\r\\n</td>\n",
       "      <td>72</td>\n",
       "      <td>低层(共6层)\\r\\n</td>\n",
       "      <td>南向\\r\\n</td>\n",
       "      <td>\\r\\n                            2室1厅\\r\\n      ...</td>\n",
       "      <td>3980000</td>\n",
       "    </tr>\n",
       "    <tr>\n",
       "      <th>3</th>\n",
       "      <td>3</td>\n",
       "      <td>http://esf.sh.fang.com/chushou/3_290987582.htm</td>\n",
       "      <td>业主出国急售:板式两房,精装修全明,带产权车位,看房方便!</td>\n",
       "      <td>建筑年代：2006\\r\\n</td>\n",
       "      <td>96</td>\n",
       "      <td>高层(共7层)\\r\\n</td>\n",
       "      <td>南北向\\r\\n</td>\n",
       "      <td>\\r\\n                            2室2厅\\r\\n      ...</td>\n",
       "      <td>5500000</td>\n",
       "    </tr>\n",
       "    <tr>\n",
       "      <th>4</th>\n",
       "      <td>4</td>\n",
       "      <td>http://esf.sh.fang.com/chushou/3_291070232.htm</td>\n",
       "      <td>徐汇滨江板块,双南两居,小高层带电梯,使用面积大,近3,11号线</td>\n",
       "      <td>建筑年代：1996\\r\\n</td>\n",
       "      <td>86</td>\n",
       "      <td>中层(共7层)\\r\\n</td>\n",
       "      <td>南向\\r\\n</td>\n",
       "      <td>\\r\\n                            2室1厅\\r\\n      ...</td>\n",
       "      <td>4500000</td>\n",
       "    </tr>\n",
       "  </tbody>\n",
       "</table>\n",
       "</div>"
      ],
      "text/plain": [
       "   Unnamed: 0                                             url  \\\n",
       "0           0  http://esf.sh.fang.com/chushou/3_289079207.htm   \n",
       "1           1  http://esf.sh.fang.com/chushou/3_290295785.htm   \n",
       "2           2  http://esf.sh.fang.com/chushou/3_290971789.htm   \n",
       "3           3  http://esf.sh.fang.com/chushou/3_290987582.htm   \n",
       "4           4  http://esf.sh.fang.com/chushou/3_291070232.htm   \n",
       "\n",
       "                               title                                    age  \\\n",
       "0  新出笋盘,业主急售,低于市场价30万,精装南北通,近11/12号线  建筑年代：1998\\r\\n                           \n",
       "1  业主急抛,低于市场价50万,双南双天井,闹中取静,近3/12号线!  建筑年代：1996\\r\\n                           \n",
       "2  新出笋盘 近11号线 东边套 低于市价50万 送20平米花园 急售  建筑年代：1998\\r\\n                           \n",
       "3      业主出国急售:板式两房,精装修全明,带产权车位,看房方便!  建筑年代：2006\\r\\n                           \n",
       "4   徐汇滨江板块,双南两居,小高层带电梯,使用面积大,近3,11号线  建筑年代：1996\\r\\n                           \n",
       "\n",
       "   area                               floor_info  \\\n",
       "0    65  中层(共6层)\\r\\n                               \n",
       "1    90  低层(共6层)\\r\\n                               \n",
       "2    72  低层(共6层)\\r\\n                               \n",
       "3    96  高层(共7层)\\r\\n                               \n",
       "4    86  中层(共7层)\\r\\n                               \n",
       "\n",
       "                             direction  \\\n",
       "0  南北向\\r\\n                               \n",
       "1  南北向\\r\\n                               \n",
       "2   南向\\r\\n                               \n",
       "3  南北向\\r\\n                               \n",
       "4   南向\\r\\n                               \n",
       "\n",
       "                                              layout    price  \n",
       "0  \\r\\n                            2室1厅\\r\\n      ...  3500000  \n",
       "1  \\r\\n                            3室2厅\\r\\n      ...  5000000  \n",
       "2  \\r\\n                            2室1厅\\r\\n      ...  3980000  \n",
       "3  \\r\\n                            2室2厅\\r\\n      ...  5500000  \n",
       "4  \\r\\n                            2室1厅\\r\\n      ...  4500000  "
      ]
     },
     "execution_count": 1,
     "metadata": {},
     "output_type": "execute_result"
    }
   ],
   "source": [
    "import pandas\n",
    "df = pandas.read_excel('D:\\house_price_regression.xlsx')\n",
    "df.head()"
   ]
  },
  {
   "cell_type": "markdown",
   "metadata": {},
   "source": [
    "## 房屋数据预处理"
   ]
  },
  {
   "cell_type": "code",
   "execution_count": 28,
   "metadata": {
    "scrolled": true
   },
   "outputs": [],
   "source": [
    "df['age'] = df['age'].map(lambda e: 2021 - int(e.strip().strip('建筑年代：')))\n",
    "df[['room','living_room']] = df['layout'].str.extract('(\\d+)室(\\d+)厅')\n",
    "df['room'] = df['room'].astype(int)\n",
    "df['living_room'] = df['living_room'].astype(int)\n",
    "df['total_floor'] = df['floor_info'].str.extract('共(\\d+)层')\n",
    "df['total_floor'] = df['total_floor'].astype(int)\n",
    "df['floor'] = df['floor_info'].str.extract('^(.)层')\n",
    "df['direction'] = df['direction'].map(lambda e: e.strip())"
   ]
  },
  {
   "cell_type": "code",
   "execution_count": 29,
   "metadata": {},
   "outputs": [],
   "source": [
    "del df['layout']\n",
    "del df['floor_info']\n",
    "del df['title']\n",
    "del df['url']"
   ]
  },
  {
   "cell_type": "code",
   "execution_count": 30,
   "metadata": {},
   "outputs": [],
   "source": [
    "del df['Unnamed: 0']"
   ]
  },
  {
   "cell_type": "code",
   "execution_count": 31,
   "metadata": {
    "scrolled": true
   },
   "outputs": [
    {
     "data": {
      "text/html": [
       "<div>\n",
       "<style scoped>\n",
       "    .dataframe tbody tr th:only-of-type {\n",
       "        vertical-align: middle;\n",
       "    }\n",
       "\n",
       "    .dataframe tbody tr th {\n",
       "        vertical-align: top;\n",
       "    }\n",
       "\n",
       "    .dataframe thead th {\n",
       "        text-align: right;\n",
       "    }\n",
       "</style>\n",
       "<table border=\"1\" class=\"dataframe\">\n",
       "  <thead>\n",
       "    <tr style=\"text-align: right;\">\n",
       "      <th></th>\n",
       "      <th>age</th>\n",
       "      <th>area</th>\n",
       "      <th>direction</th>\n",
       "      <th>price</th>\n",
       "      <th>room</th>\n",
       "      <th>living_room</th>\n",
       "      <th>total_floor</th>\n",
       "      <th>floor</th>\n",
       "    </tr>\n",
       "  </thead>\n",
       "  <tbody>\n",
       "    <tr>\n",
       "      <th>0</th>\n",
       "      <td>23</td>\n",
       "      <td>65</td>\n",
       "      <td>南北向</td>\n",
       "      <td>3500000</td>\n",
       "      <td>2</td>\n",
       "      <td>1</td>\n",
       "      <td>6</td>\n",
       "      <td>中</td>\n",
       "    </tr>\n",
       "    <tr>\n",
       "      <th>1</th>\n",
       "      <td>25</td>\n",
       "      <td>90</td>\n",
       "      <td>南北向</td>\n",
       "      <td>5000000</td>\n",
       "      <td>3</td>\n",
       "      <td>2</td>\n",
       "      <td>6</td>\n",
       "      <td>低</td>\n",
       "    </tr>\n",
       "    <tr>\n",
       "      <th>2</th>\n",
       "      <td>23</td>\n",
       "      <td>72</td>\n",
       "      <td>南向</td>\n",
       "      <td>3980000</td>\n",
       "      <td>2</td>\n",
       "      <td>1</td>\n",
       "      <td>6</td>\n",
       "      <td>低</td>\n",
       "    </tr>\n",
       "    <tr>\n",
       "      <th>3</th>\n",
       "      <td>15</td>\n",
       "      <td>96</td>\n",
       "      <td>南北向</td>\n",
       "      <td>5500000</td>\n",
       "      <td>2</td>\n",
       "      <td>2</td>\n",
       "      <td>7</td>\n",
       "      <td>高</td>\n",
       "    </tr>\n",
       "    <tr>\n",
       "      <th>4</th>\n",
       "      <td>25</td>\n",
       "      <td>86</td>\n",
       "      <td>南向</td>\n",
       "      <td>4500000</td>\n",
       "      <td>2</td>\n",
       "      <td>1</td>\n",
       "      <td>7</td>\n",
       "      <td>中</td>\n",
       "    </tr>\n",
       "  </tbody>\n",
       "</table>\n",
       "</div>"
      ],
      "text/plain": [
       "   age  area direction    price  room  living_room  total_floor floor\n",
       "0   23    65       南北向  3500000     2            1            6     中\n",
       "1   25    90       南北向  5000000     3            2            6     低\n",
       "2   23    72        南向  3980000     2            1            6     低\n",
       "3   15    96       南北向  5500000     2            2            7     高\n",
       "4   25    86        南向  4500000     2            1            7     中"
      ]
     },
     "execution_count": 31,
     "metadata": {},
     "output_type": "execute_result"
    }
   ],
   "source": [
    "df.head()"
   ]
  },
  {
   "cell_type": "code",
   "execution_count": 33,
   "metadata": {
    "scrolled": true
   },
   "outputs": [],
   "source": [
    "df = pandas.concat([df,pandas.get_dummies(df['direction']), pandas.get_dummies(df['floor'])], axis=1)\n",
    "del df['direction']\n",
    "del df['floor']\n",
    "del df['南北向']\n",
    "del df['低']"
   ]
  },
  {
   "cell_type": "code",
   "execution_count": 34,
   "metadata": {
    "scrolled": true
   },
   "outputs": [
    {
     "data": {
      "text/html": [
       "<div>\n",
       "<style scoped>\n",
       "    .dataframe tbody tr th:only-of-type {\n",
       "        vertical-align: middle;\n",
       "    }\n",
       "\n",
       "    .dataframe tbody tr th {\n",
       "        vertical-align: top;\n",
       "    }\n",
       "\n",
       "    .dataframe thead th {\n",
       "        text-align: right;\n",
       "    }\n",
       "</style>\n",
       "<table border=\"1\" class=\"dataframe\">\n",
       "  <thead>\n",
       "    <tr style=\"text-align: right;\">\n",
       "      <th></th>\n",
       "      <th>age</th>\n",
       "      <th>area</th>\n",
       "      <th>price</th>\n",
       "      <th>room</th>\n",
       "      <th>living_room</th>\n",
       "      <th>total_floor</th>\n",
       "      <th>东南向</th>\n",
       "      <th>东向</th>\n",
       "      <th>南向</th>\n",
       "      <th>西南向</th>\n",
       "      <th>西向</th>\n",
       "      <th>中</th>\n",
       "      <th>高</th>\n",
       "    </tr>\n",
       "  </thead>\n",
       "  <tbody>\n",
       "    <tr>\n",
       "      <th>0</th>\n",
       "      <td>23</td>\n",
       "      <td>65</td>\n",
       "      <td>3500000</td>\n",
       "      <td>2</td>\n",
       "      <td>1</td>\n",
       "      <td>6</td>\n",
       "      <td>0</td>\n",
       "      <td>0</td>\n",
       "      <td>0</td>\n",
       "      <td>0</td>\n",
       "      <td>0</td>\n",
       "      <td>1</td>\n",
       "      <td>0</td>\n",
       "    </tr>\n",
       "    <tr>\n",
       "      <th>1</th>\n",
       "      <td>25</td>\n",
       "      <td>90</td>\n",
       "      <td>5000000</td>\n",
       "      <td>3</td>\n",
       "      <td>2</td>\n",
       "      <td>6</td>\n",
       "      <td>0</td>\n",
       "      <td>0</td>\n",
       "      <td>0</td>\n",
       "      <td>0</td>\n",
       "      <td>0</td>\n",
       "      <td>0</td>\n",
       "      <td>0</td>\n",
       "    </tr>\n",
       "    <tr>\n",
       "      <th>2</th>\n",
       "      <td>23</td>\n",
       "      <td>72</td>\n",
       "      <td>3980000</td>\n",
       "      <td>2</td>\n",
       "      <td>1</td>\n",
       "      <td>6</td>\n",
       "      <td>0</td>\n",
       "      <td>0</td>\n",
       "      <td>1</td>\n",
       "      <td>0</td>\n",
       "      <td>0</td>\n",
       "      <td>0</td>\n",
       "      <td>0</td>\n",
       "    </tr>\n",
       "    <tr>\n",
       "      <th>3</th>\n",
       "      <td>15</td>\n",
       "      <td>96</td>\n",
       "      <td>5500000</td>\n",
       "      <td>2</td>\n",
       "      <td>2</td>\n",
       "      <td>7</td>\n",
       "      <td>0</td>\n",
       "      <td>0</td>\n",
       "      <td>0</td>\n",
       "      <td>0</td>\n",
       "      <td>0</td>\n",
       "      <td>0</td>\n",
       "      <td>1</td>\n",
       "    </tr>\n",
       "    <tr>\n",
       "      <th>4</th>\n",
       "      <td>25</td>\n",
       "      <td>86</td>\n",
       "      <td>4500000</td>\n",
       "      <td>2</td>\n",
       "      <td>1</td>\n",
       "      <td>7</td>\n",
       "      <td>0</td>\n",
       "      <td>0</td>\n",
       "      <td>1</td>\n",
       "      <td>0</td>\n",
       "      <td>0</td>\n",
       "      <td>1</td>\n",
       "      <td>0</td>\n",
       "    </tr>\n",
       "    <tr>\n",
       "      <th>...</th>\n",
       "      <td>...</td>\n",
       "      <td>...</td>\n",
       "      <td>...</td>\n",
       "      <td>...</td>\n",
       "      <td>...</td>\n",
       "      <td>...</td>\n",
       "      <td>...</td>\n",
       "      <td>...</td>\n",
       "      <td>...</td>\n",
       "      <td>...</td>\n",
       "      <td>...</td>\n",
       "      <td>...</td>\n",
       "      <td>...</td>\n",
       "    </tr>\n",
       "    <tr>\n",
       "      <th>2787</th>\n",
       "      <td>18</td>\n",
       "      <td>92</td>\n",
       "      <td>5000000</td>\n",
       "      <td>2</td>\n",
       "      <td>2</td>\n",
       "      <td>24</td>\n",
       "      <td>0</td>\n",
       "      <td>0</td>\n",
       "      <td>0</td>\n",
       "      <td>0</td>\n",
       "      <td>0</td>\n",
       "      <td>1</td>\n",
       "      <td>0</td>\n",
       "    </tr>\n",
       "    <tr>\n",
       "      <th>2788</th>\n",
       "      <td>19</td>\n",
       "      <td>136</td>\n",
       "      <td>9400000</td>\n",
       "      <td>3</td>\n",
       "      <td>2</td>\n",
       "      <td>11</td>\n",
       "      <td>0</td>\n",
       "      <td>0</td>\n",
       "      <td>0</td>\n",
       "      <td>0</td>\n",
       "      <td>0</td>\n",
       "      <td>0</td>\n",
       "      <td>1</td>\n",
       "    </tr>\n",
       "    <tr>\n",
       "      <th>2789</th>\n",
       "      <td>16</td>\n",
       "      <td>125</td>\n",
       "      <td>5500000</td>\n",
       "      <td>3</td>\n",
       "      <td>2</td>\n",
       "      <td>16</td>\n",
       "      <td>0</td>\n",
       "      <td>0</td>\n",
       "      <td>0</td>\n",
       "      <td>0</td>\n",
       "      <td>0</td>\n",
       "      <td>0</td>\n",
       "      <td>1</td>\n",
       "    </tr>\n",
       "    <tr>\n",
       "      <th>2790</th>\n",
       "      <td>18</td>\n",
       "      <td>108</td>\n",
       "      <td>7410000</td>\n",
       "      <td>2</td>\n",
       "      <td>2</td>\n",
       "      <td>18</td>\n",
       "      <td>0</td>\n",
       "      <td>0</td>\n",
       "      <td>1</td>\n",
       "      <td>0</td>\n",
       "      <td>0</td>\n",
       "      <td>1</td>\n",
       "      <td>0</td>\n",
       "    </tr>\n",
       "    <tr>\n",
       "      <th>2791</th>\n",
       "      <td>25</td>\n",
       "      <td>35</td>\n",
       "      <td>3100000</td>\n",
       "      <td>1</td>\n",
       "      <td>0</td>\n",
       "      <td>6</td>\n",
       "      <td>0</td>\n",
       "      <td>0</td>\n",
       "      <td>1</td>\n",
       "      <td>0</td>\n",
       "      <td>0</td>\n",
       "      <td>0</td>\n",
       "      <td>1</td>\n",
       "    </tr>\n",
       "  </tbody>\n",
       "</table>\n",
       "<p>2792 rows × 13 columns</p>\n",
       "</div>"
      ],
      "text/plain": [
       "      age  area    price  room  living_room  total_floor  东南向  东向  南向  西南向  \\\n",
       "0      23    65  3500000     2            1            6    0   0   0    0   \n",
       "1      25    90  5000000     3            2            6    0   0   0    0   \n",
       "2      23    72  3980000     2            1            6    0   0   1    0   \n",
       "3      15    96  5500000     2            2            7    0   0   0    0   \n",
       "4      25    86  4500000     2            1            7    0   0   1    0   \n",
       "...   ...   ...      ...   ...          ...          ...  ...  ..  ..  ...   \n",
       "2787   18    92  5000000     2            2           24    0   0   0    0   \n",
       "2788   19   136  9400000     3            2           11    0   0   0    0   \n",
       "2789   16   125  5500000     3            2           16    0   0   0    0   \n",
       "2790   18   108  7410000     2            2           18    0   0   1    0   \n",
       "2791   25    35  3100000     1            0            6    0   0   1    0   \n",
       "\n",
       "      西向  中  高  \n",
       "0      0  1  0  \n",
       "1      0  0  0  \n",
       "2      0  0  0  \n",
       "3      0  0  1  \n",
       "4      0  1  0  \n",
       "...   .. .. ..  \n",
       "2787   0  1  0  \n",
       "2788   0  0  1  \n",
       "2789   0  0  1  \n",
       "2790   0  1  0  \n",
       "2791   0  0  1  \n",
       "\n",
       "[2792 rows x 13 columns]"
      ]
     },
     "execution_count": 34,
     "metadata": {},
     "output_type": "execute_result"
    }
   ],
   "source": [
    "df"
   ]
  },
  {
   "cell_type": "markdown",
   "metadata": {},
   "source": [
    "## 绘制散布图"
   ]
  },
  {
   "cell_type": "code",
   "execution_count": 35,
   "metadata": {
    "scrolled": true
   },
   "outputs": [
    {
     "name": "stdout",
     "output_type": "stream",
     "text": [
      "Populating the interactive namespace from numpy and matplotlib\n"
     ]
    },
    {
     "data": {
      "text/plain": [
       "<AxesSubplot:xlabel='area', ylabel='price'>"
      ]
     },
     "execution_count": 35,
     "metadata": {},
     "output_type": "execute_result"
    },
    {
     "data": {
      "image/png": "[encoded data removed]",
      "text/plain": [
       "<Figure size 720x360 with 1 Axes>"
      ]
     },
     "metadata": {
      "needs_background": "light"
     },
     "output_type": "display_data"
    }
   ],
   "source": [
    "%pylab inline\n",
    "df[['price','area']].plot(kind='scatter',x='area',y='price',figsize=[10,5])"
   ]
  },
  {
   "cell_type": "markdown",
   "metadata": {},
   "source": [
    "## 建立回归线分析价格与面积的关系"
   ]
  },
  {
   "cell_type": "code",
   "execution_count": 44,
   "metadata": {},
   "outputs": [],
   "source": [
    "X = df[['area']]\n",
    "y = df['price']"
   ]
  },
  {
   "cell_type": "code",
   "execution_count": 45,
   "metadata": {},
   "outputs": [
    {
     "data": {
      "text/plain": [
       "LinearRegression()"
      ]
     },
     "execution_count": 45,
     "metadata": {},
     "output_type": "execute_result"
    }
   ],
   "source": [
    "from sklearn.linear_model import LinearRegression\n",
    "regr = LinearRegression()\n",
    "regr.fit(X,y)"
   ]
  },
  {
   "cell_type": "code",
   "execution_count": 46,
   "metadata": {},
   "outputs": [
    {
     "name": "stdout",
     "output_type": "stream",
     "text": [
      "Coefficient:[64846.01038065]\n",
      "Intercept:-9165.21745733358\n"
     ]
    }
   ],
   "source": [
    "print('Coefficient:{}'.format(regr.coef_))\n",
    "print('Intercept:{}'.format(regr.intercept_))"
   ]
  },
  {
   "cell_type": "code",
   "execution_count": 47,
   "metadata": {
    "scrolled": true
   },
   "outputs": [
    {
     "data": {
      "text/plain": [
       "Text(0, 0.5, 'price')"
      ]
     },
     "execution_count": 47,
     "metadata": {},
     "output_type": "execute_result"
    },
    {
     "data": {
      "image/png": "[encoded data removed]",
      "text/plain": [
       "<Figure size 432x288 with 1 Axes>"
      ]
     },
     "metadata": {
      "needs_background": "light"
     },
     "output_type": "display_data"
    }
   ],
   "source": [
    "plt.scatter(X,y, color='blue')\n",
    "plt.plot(X, regr.predict(X), color='black')\n",
    "plt.xlabel('area')\n",
    "plt.ylabel('price')"
   ]
  },
  {
   "cell_type": "markdown",
   "metadata": {},
   "source": [
    "## 多元回归预测"
   ]
  },
  {
   "cell_type": "code",
   "execution_count": 48,
   "metadata": {},
   "outputs": [],
   "source": [
    "y = df['price'].values\n",
    "X = df[['age','area','room','living_room','total_floor','东南向','东向','南向','西南向','西向','中','高']]"
   ]
  },
  {
   "cell_type": "code",
   "execution_count": 50,
   "metadata": {},
   "outputs": [
    {
     "data": {
      "text/plain": [
       "LinearRegression()"
      ]
     },
     "execution_count": 50,
     "metadata": {},
     "output_type": "execute_result"
    }
   ],
   "source": [
    "from sklearn.linear_model import LinearRegression\n",
    "regr = LinearRegression()\n",
    "regr.fit(X,y)"
   ]
  },
  {
   "cell_type": "code",
   "execution_count": 51,
   "metadata": {
    "scrolled": true
   },
   "outputs": [
    {
     "data": {
      "text/plain": [
       "<bound method DataFrame.info of       age  area  room  living_room  total_floor  东南向  东向  南向  西南向  西向  中  高\n",
       "0      23    65     2            1            6    0   0   0    0   0  1  0\n",
       "1      25    90     3            2            6    0   0   0    0   0  0  0\n",
       "2      23    72     2            1            6    0   0   1    0   0  0  0\n",
       "3      15    96     2            2            7    0   0   0    0   0  0  1\n",
       "4      25    86     2            1            7    0   0   1    0   0  1  0\n",
       "...   ...   ...   ...          ...          ...  ...  ..  ..  ...  .. .. ..\n",
       "2787   18    92     2            2           24    0   0   0    0   0  1  0\n",
       "2788   19   136     3            2           11    0   0   0    0   0  0  1\n",
       "2789   16   125     3            2           16    0   0   0    0   0  0  1\n",
       "2790   18   108     2            2           18    0   0   1    0   0  1  0\n",
       "2791   25    35     1            0            6    0   0   1    0   0  0  1\n",
       "\n",
       "[2792 rows x 12 columns]>"
      ]
     },
     "execution_count": 51,
     "metadata": {},
     "output_type": "execute_result"
    }
   ],
   "source": [
    "X.info"
   ]
  },
  {
   "cell_type": "markdown",
   "metadata": {},
   "source": [
    "## 评估回归模型"
   ]
  },
  {
   "cell_type": "code",
   "execution_count": 53,
   "metadata": {
    "scrolled": true
   },
   "outputs": [
    {
     "name": "stdout",
     "output_type": "stream",
     "text": [
      "                            OLS Regression Results                            \n",
      "==============================================================================\n",
      "Dep. Variable:                      y   R-squared:                       0.851\n",
      "Model:                            OLS   Adj. R-squared:                  0.850\n",
      "Method:                 Least Squares   F-statistic:                     1319.\n",
      "Date:                Wed, 03 Feb 2021   Prob (F-statistic):               0.00\n",
      "Time:                        16:17:06   Log-Likelihood:                -42320.\n",
      "No. Observations:                2792   AIC:                         8.467e+04\n",
      "Df Residuals:                    2779   BIC:                         8.474e+04\n",
      "Df Model:                          12                                         \n",
      "Covariance Type:            nonrobust                                         \n",
      "===============================================================================\n",
      "                  coef    std err          t      P>|t|      [0.025      0.975]\n",
      "-------------------------------------------------------------------------------\n",
      "const       -3.643e+04   1.12e+05     -0.325      0.745   -2.56e+05    1.83e+05\n",
      "age          9389.0503   2463.360      3.811      0.000    4558.849    1.42e+04\n",
      "area          6.99e+04   1246.879     56.057      0.000    6.75e+04    7.23e+04\n",
      "room        -3.606e+05   4.34e+04     -8.308      0.000   -4.46e+05   -2.76e+05\n",
      "living_room -2.297e+04   5.63e+04     -0.408      0.683   -1.33e+05    8.75e+04\n",
      "total_floor  1.826e+04   2773.446      6.584      0.000    1.28e+04    2.37e+04\n",
      "东南向          5.026e+05   2.51e+05      2.002      0.045    1.04e+04    9.95e+05\n",
      "东向          -5.405e+05   1.72e+05     -3.133      0.002   -8.79e+05   -2.02e+05\n",
      "南向           1.744e+05   3.78e+04      4.610      0.000       1e+05    2.49e+05\n",
      "西南向         -1.524e+06   2.08e+05     -7.326      0.000   -1.93e+06   -1.12e+06\n",
      "西向           8.511e+05   3.12e+05      2.731      0.006     2.4e+05    1.46e+06\n",
      "中           -2.754e+05   4.82e+04     -5.715      0.000    -3.7e+05   -1.81e+05\n",
      "高            5.478e+04   5.23e+04      1.047      0.295   -4.78e+04    1.57e+05\n",
      "==============================================================================\n",
      "Omnibus:                      140.017   Durbin-Watson:                   1.703\n",
      "Prob(Omnibus):                  0.000   Jarque-Bera (JB):              421.692\n",
      "Skew:                           0.197   Prob(JB):                     2.70e-92\n",
      "Kurtosis:                       4.863   Cond. No.                     1.54e+03\n",
      "==============================================================================\n",
      "\n",
      "Notes:\n",
      "[1] Standard Errors assume that the covariance matrix of the errors is correctly specified.\n",
      "[2] The condition number is large, 1.54e+03. This might indicate that there are\n",
      "strong multicollinearity or other numerical problems.\n"
     ]
    }
   ],
   "source": [
    "import statsmodels.api as sm\n",
    "X2 = sm.add_constant(X)\n",
    "est = sm.OLS(y, X2)\n",
    "est2 = est.fit()\n",
    "print(est2.summary())"
   ]
  },
  {
   "cell_type": "code",
   "execution_count": 56,
   "metadata": {},
   "outputs": [],
   "source": [
    "predictorcols = ['age', 'area', 'room', 'living_room', 'total_floor', '东南向', '东向', '南向', '西南向', '西向', '中', '高']\n",
    "import itertools\n",
    "AICs = {}\n",
    "for k in range(1,len(predictorcols)+1):\n",
    "    for variables in itertools.combinations(predictorcols, k):\n",
    "        predictorcols = X[list(variables)]\n",
    "        predictorcols2 = sm.add_constant(predictorcols)\n",
    "        est = sm.OLS(y, predictorcols)\n",
    "        res = est.fit()\n",
    "        AICs[variables] = res.aic"
   ]
  },
  {
   "cell_type": "code",
   "execution_count": 58,
   "metadata": {},
   "outputs": [
    {
     "data": {
      "text/plain": [
       "[(('东向',), 94567.53510815016),\n",
       " (('西南向',), 94566.53707240011),\n",
       " (('西向',), 94564.47084448887),\n",
       " (('东南向',), 94551.16301791837),\n",
       " (('高',), 93491.96381531178),\n",
       " (('中',), 93367.86191792344),\n",
       " (('南向',), 93179.91145024315),\n",
       " (('age',), 91667.68921456214),\n",
       " (('total_floor',), 90835.88264550385),\n",
       " (('room',), 88417.9323391738),\n",
       " (('living_room',), 88144.11804993184),\n",
       " (('area',), 84981.8845029108)]"
      ]
     },
     "execution_count": 58,
     "metadata": {},
     "output_type": "execute_result"
    }
   ],
   "source": [
    "from collections import Counter\n",
    "c = Counter(AICs)\n",
    "c.most_common()"
   ]
  }
 ],
 "metadata": {
  "kernelspec": {
   "display_name": "Python 3",
   "language": "python",
   "name": "python3"
  },
  "language_info": {
   "codemirror_mode": {
    "name": "ipython",
    "version": 3
   },
   "file_extension": ".py",
   "mimetype": "text/x-python",
   "name": "python",
   "nbconvert_exporter": "python",
   "pygments_lexer": "ipython3",
   "version": "3.8.5"
  }
 },
 "nbformat": 4,
 "nbformat_minor": 4
}
